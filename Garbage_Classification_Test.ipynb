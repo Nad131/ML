{
 "cells": [
  {
   "cell_type": "code",
   "execution_count": 1,
   "metadata": {},
   "outputs": [],
   "source": [
    "import glob\n",
    "import numpy as np\n",
    "import pandas as pd "
   ]
  },
  {
   "cell_type": "code",
   "execution_count": 2,
   "metadata": {},
   "outputs": [
    {
     "data": {
      "text/plain": [
       "['Garbage classification\\\\cardboard',\n",
       " 'Garbage classification\\\\glass',\n",
       " 'Garbage classification\\\\metal',\n",
       " 'Garbage classification\\\\paper',\n",
       " 'Garbage classification\\\\plastic',\n",
       " 'Garbage classification\\\\trash']"
      ]
     },
     "execution_count": 2,
     "metadata": {},
     "output_type": "execute_result"
    }
   ],
   "source": [
    "glob.glob('Garbage classification/*')"
   ]
  },
  {
   "cell_type": "code",
   "execution_count": 3,
   "metadata": {},
   "outputs": [],
   "source": [
    "import tensorflow as tf\n",
    "from tensorflow.keras.preprocessing.image import load_img, img_to_array"
   ]
  },
  {
   "cell_type": "code",
   "execution_count": 4,
   "metadata": {},
   "outputs": [],
   "source": [
    "def prepare_dataset(path,label):\n",
    "    x_train=[]\n",
    "    y_train=[]\n",
    "    all_images_path=glob.glob(path+'/*.jpg')\n",
    "    for img_path in all_images_path :\n",
    "            img=load_img(img_path, target_size=(150,150))\n",
    "            img=img_to_array(img)\n",
    "            img=img/255.0\n",
    "            x_train.append(img)\n",
    "            y_train.append(label)\n",
    "    return np.array(x_train),np.array(y_train)"
   ]
  },
  {
   "cell_type": "code",
   "execution_count": 5,
   "metadata": {},
   "outputs": [
    {
     "name": "stdout",
     "output_type": "stream",
     "text": [
      "['cardboard']\n",
      "['cardboard', 'glass']\n",
      "['cardboard', 'glass', 'metal']\n",
      "['cardboard', 'glass', 'metal', 'paper']\n",
      "['cardboard', 'glass', 'metal', 'paper', 'plastic']\n",
      "['cardboard', 'glass', 'metal', 'paper', 'plastic', 'trash']\n"
     ]
    }
   ],
   "source": [
    "paths=glob.glob('Garbage classification/*')\n",
    "l=len('Garbage classification/')\n",
    "labels=[]\n",
    "for path in paths:\n",
    "    labels.append(path[l:])\n",
    "    print(labels)"
   ]
  },
  {
   "cell_type": "code",
   "execution_count": 33,
   "metadata": {},
   "outputs": [
    {
     "ename": "PermissionError",
     "evalue": "[Errno 13] Permission denied: 'Garbage_classification/cardboard'",
     "output_type": "error",
     "traceback": [
      "\u001b[1;31m---------------------------------------------------------------------------\u001b[0m",
      "\u001b[1;31mPermissionError\u001b[0m                           Traceback (most recent call last)",
      "\u001b[1;32m<ipython-input-33-19a1979c40ac>\u001b[0m in \u001b[0;36m<module>\u001b[1;34m\u001b[0m\n\u001b[0;32m     28\u001b[0m     \u001b[1;32mif\u001b[0m \u001b[0mfile\u001b[0m\u001b[1;33m.\u001b[0m\u001b[0mstartswith\u001b[0m\u001b[1;33m(\u001b[0m\u001b[1;34m'cardboard'\u001b[0m\u001b[1;33m)\u001b[0m\u001b[1;33m:\u001b[0m\u001b[1;33m\u001b[0m\u001b[1;33m\u001b[0m\u001b[0m\n\u001b[0;32m     29\u001b[0m         \u001b[0mdst\u001b[0m \u001b[1;33m=\u001b[0m \u001b[0mdataset_home\u001b[0m \u001b[1;33m+\u001b[0m \u001b[0mdst_dir\u001b[0m \u001b[1;33m+\u001b[0m \u001b[1;34m'cardboard/'\u001b[0m  \u001b[1;33m+\u001b[0m \u001b[0mfile\u001b[0m\u001b[1;33m\u001b[0m\u001b[1;33m\u001b[0m\u001b[0m\n\u001b[1;32m---> 30\u001b[1;33m         \u001b[0mcopyfile\u001b[0m\u001b[1;33m(\u001b[0m\u001b[0msrc\u001b[0m\u001b[1;33m,\u001b[0m \u001b[0mdst\u001b[0m\u001b[1;33m)\u001b[0m\u001b[1;33m\u001b[0m\u001b[1;33m\u001b[0m\u001b[0m\n\u001b[0m\u001b[0;32m     31\u001b[0m     \u001b[1;32melif\u001b[0m \u001b[0mfile\u001b[0m\u001b[1;33m.\u001b[0m\u001b[0mstartswith\u001b[0m\u001b[1;33m(\u001b[0m\u001b[1;34m'glass'\u001b[0m\u001b[1;33m)\u001b[0m\u001b[1;33m:\u001b[0m\u001b[1;33m\u001b[0m\u001b[1;33m\u001b[0m\u001b[0m\n\u001b[0;32m     32\u001b[0m         \u001b[0mdst\u001b[0m \u001b[1;33m=\u001b[0m \u001b[0mdataset_home\u001b[0m \u001b[1;33m+\u001b[0m \u001b[0mdst_dir\u001b[0m \u001b[1;33m+\u001b[0m \u001b[1;34m'glass/'\u001b[0m  \u001b[1;33m+\u001b[0m \u001b[0mfile\u001b[0m\u001b[1;33m\u001b[0m\u001b[1;33m\u001b[0m\u001b[0m\n",
      "\u001b[1;32m~\\.conda\\envs\\python36\\lib\\shutil.py\u001b[0m in \u001b[0;36mcopyfile\u001b[1;34m(src, dst, follow_symlinks)\u001b[0m\n\u001b[0;32m    118\u001b[0m         \u001b[0mos\u001b[0m\u001b[1;33m.\u001b[0m\u001b[0msymlink\u001b[0m\u001b[1;33m(\u001b[0m\u001b[0mos\u001b[0m\u001b[1;33m.\u001b[0m\u001b[0mreadlink\u001b[0m\u001b[1;33m(\u001b[0m\u001b[0msrc\u001b[0m\u001b[1;33m)\u001b[0m\u001b[1;33m,\u001b[0m \u001b[0mdst\u001b[0m\u001b[1;33m)\u001b[0m\u001b[1;33m\u001b[0m\u001b[1;33m\u001b[0m\u001b[0m\n\u001b[0;32m    119\u001b[0m     \u001b[1;32melse\u001b[0m\u001b[1;33m:\u001b[0m\u001b[1;33m\u001b[0m\u001b[1;33m\u001b[0m\u001b[0m\n\u001b[1;32m--> 120\u001b[1;33m         \u001b[1;32mwith\u001b[0m \u001b[0mopen\u001b[0m\u001b[1;33m(\u001b[0m\u001b[0msrc\u001b[0m\u001b[1;33m,\u001b[0m \u001b[1;34m'rb'\u001b[0m\u001b[1;33m)\u001b[0m \u001b[1;32mas\u001b[0m \u001b[0mfsrc\u001b[0m\u001b[1;33m:\u001b[0m\u001b[1;33m\u001b[0m\u001b[1;33m\u001b[0m\u001b[0m\n\u001b[0m\u001b[0;32m    121\u001b[0m             \u001b[1;32mwith\u001b[0m \u001b[0mopen\u001b[0m\u001b[1;33m(\u001b[0m\u001b[0mdst\u001b[0m\u001b[1;33m,\u001b[0m \u001b[1;34m'wb'\u001b[0m\u001b[1;33m)\u001b[0m \u001b[1;32mas\u001b[0m \u001b[0mfdst\u001b[0m\u001b[1;33m:\u001b[0m\u001b[1;33m\u001b[0m\u001b[1;33m\u001b[0m\u001b[0m\n\u001b[0;32m    122\u001b[0m                 \u001b[0mcopyfileobj\u001b[0m\u001b[1;33m(\u001b[0m\u001b[0mfsrc\u001b[0m\u001b[1;33m,\u001b[0m \u001b[0mfdst\u001b[0m\u001b[1;33m)\u001b[0m\u001b[1;33m\u001b[0m\u001b[1;33m\u001b[0m\u001b[0m\n",
      "\u001b[1;31mPermissionError\u001b[0m: [Errno 13] Permission denied: 'Garbage_classification/cardboard'"
     ]
    }
   ],
   "source": [
    "# organize dataset into a useful structure\n",
    "from os import makedirs\n",
    "from os import listdir\n",
    "from shutil import copyfile\n",
    "from random import seed\n",
    "from random import random\n",
    "\n",
    "dataset_home = r'Garbage_classification/'\n",
    "subdirs = [r'train/', r'test/']\n",
    "for subdir in subdirs:\n",
    "    # create label subdirectories\n",
    "    labeldirs = labels\n",
    "    for labldir in labeldirs:\n",
    "        newdir = dataset_home + subdir + labldir\n",
    "        makedirs(newdir, exist_ok=True)\n",
    "        \n",
    "# seed random number generator\n",
    "seed(1)\n",
    "# define ratio of pictures to use for validation\n",
    "val_ratio = 0.25\n",
    "# copy training dataset images into subdirectories\n",
    "src_directory = r'Garbage_classification'\n",
    "for file in listdir(src_directory):\n",
    "    src = src_directory + '/' + file\n",
    "    dst_dir = r'train/'\n",
    "    if random() < val_ratio:\n",
    "        dst_dir = r'test/'\n",
    "    if file.startswith('cardboard'):\n",
    "        dst = dataset_home + dst_dir + 'cardboard/'  + file\n",
    "        copyfile(src, dst)\n",
    "    elif file.startswith('glass'):\n",
    "        dst = dataset_home + dst_dir + 'glass/'  + file\n",
    "        copyfile(src, dst)\n",
    "    elif file.startswith('metal'):\n",
    "        dst = dataset_home + dst_dir + 'metal/'  + file\n",
    "        copyfile(src, dst)\n",
    "    elif file.startswith('paper'):\n",
    "        dst = dataset_home + dst_dir + 'paper/'  + file\n",
    "        copyfile(src, dst)\n",
    "    elif file.startswith('plastic'):\n",
    "        dst = dataset_home + dst_dir + 'plastic/'  + file\n",
    "        copyfile(src, dst)\n",
    "    elif file.startswith('trash'):\n",
    "        dst = dataset_home + dst_dir + 'trash/'  + file\n",
    "        copyfile(src, dst)"
   ]
  },
  {
   "cell_type": "code",
   "execution_count": 6,
   "metadata": {},
   "outputs": [
    {
     "name": "stdout",
     "output_type": "stream",
     "text": [
      "train cardboard shape  (403, 150, 150, 3) (403,)\n",
      "train glass (501, 150, 150, 3) (501,)\n",
      "train metal (410, 150, 150, 3) (410,)\n",
      "train paper (594, 150, 150, 3) (594,)\n",
      "train plastic (482, 150, 150, 3) (482,)\n",
      "train trash (137, 150, 150, 3) (137,)\n"
     ]
    }
   ],
   "source": [
    "trainX_cardboard, trainY_cardboard  = prepare_dataset(\"Garbage classification/cardboard\",0)\n",
    "trainX_glass,trainY_glass  = prepare_dataset(\"Garbage classification/glass\",1)\n",
    "trainX_metal,trainY_metal  = prepare_dataset(\"Garbage classification/metal\",2)\n",
    "trainX_paper,trainY_paper  = prepare_dataset(\"Garbage classification/paper\",3)\n",
    "trainX_plastic,trainY_plastic  = prepare_dataset(\"Garbage classification/plastic\",4)\n",
    "trainX_trash,trainY_trash  = prepare_dataset(\"Garbage classification/trash\",5)\n",
    "\n",
    "print('train cardboard shape ', trainX_cardboard.shape, trainY_cardboard.shape) \n",
    "print('train glass shape', trainX_glass.shape ,trainY_glass.shape)\n",
    "print('train metal shape', trainX_metal.shape,trainY_metal.shape)\n",
    "print('train paper shape', trainX_paper.shape, trainY_paper.shape)\n",
    "print('train plastic shape', trainX_plastic.shape, trainY_plastic.shape)\n",
    "print('train trash shape', trainX_trash.shape ,trainY_trash.shape)"
   ]
  },
  {
   "cell_type": "code",
   "execution_count": 7,
   "metadata": {},
   "outputs": [],
   "source": [
    "x_train=np.concatenate((trainX_cardboard,trainX_glass,trainX_metal,trainX_paper,trainX_plastic,trainX_trash),axis=0)\n",
    "y_train=np.concatenate((trainY_cardboard,trainY_glass,trainY_metal,trainY_paper,trainY_plastic,trainY_trash),axis=0)\n"
   ]
  },
  {
   "cell_type": "code",
   "execution_count": 8,
   "metadata": {},
   "outputs": [
    {
     "name": "stdout",
     "output_type": "stream",
     "text": [
      "(2527, 150, 150, 3)\n",
      "(2527,)\n"
     ]
    }
   ],
   "source": [
    "print(x_train.shape)\n",
    "print(y_train.shape)"
   ]
  },
  {
   "cell_type": "code",
   "execution_count": null,
   "metadata": {},
   "outputs": [],
   "source": [
    "testX_cardboard, testY_cardboard  = prepare_dataset(\"Garbage classification/cardboard\",0)\n",
    "testX_glass,testY_glass  = prepare_dataset(\"Garbage classification/glass\",1)\n",
    "testX_metal,testY_metal  = prepare_dataset(\"Garbage classification/metal\",2)\n",
    "testX_paper,testY_paper  = prepare_dataset(\"Garbage classification/paper\",3)\n",
    "testX_plastic,testY_plastic  = prepare_dataset(\"Garbage classification/plastic\",4)\n",
    "testX_trash,testY_trash  = prepare_dataset(\"Garbage classification/trash\",5)\n",
    "\n",
    "x_test=np.concatenate((testX_cardboard,testX_glass,testX_metal,testX_paper,testX_plastic,testX_trash),axis=0)\n",
    "y_test=np.concatenate((testY_cardboard,testY_glass,testY_metal,testY_paper,testY_plastic,testY_trash),axis=0)"
   ]
  },
  {
   "cell_type": "code",
   "execution_count": null,
   "metadata": {},
   "outputs": [],
   "source": [
    "from tensorflow.keras.applications import VGG16\n",
    "\n",
    "pretrained_model=VGG16(input_shape = (150, 150, 3), \n",
    "                        include_top = False, \n",
    "                        weights = 'imagenet')\n",
    "\n",
    "for layer in pretrained_model.layers:\n",
    "     layer.trainable = False\n",
    "\n",
    "# pretrained_model.summary()\n",
    "last_layer = pretrained_model.get_layer('block5_pool')\n",
    "print('last layer of vgg : output shape: ', last_layer.output_shape)\n",
    "last_output= last_layer.output\n",
    "\n",
    "x = layers.Flatten()(last_output)\n",
    "x = layers.Dense(1024, activation='relu')(x)\n",
    "x = layers.Dropout(0.2)(x)                  \n",
    "x = layers.Dense(6, activation='softmax')(x)           \n",
    "\n",
    "model_vgg = Model(pretrained_model.input, x) \n",
    "\n",
    "\n",
    "model_vgg.compile(optimizer = RMSprop(lr=0.0001), \n",
    "              loss = 'sparse_categorical_crossentropy', \n",
    "              metrics = ['acc'])\n",
    "\n",
    "model_vgg.fit(x_train,y_train,epochs=1,validation_data=(x_test,y_test))"
   ]
  }
 ],
 "metadata": {
  "celltoolbar": "Raw Cell Format",
  "kernelspec": {
   "display_name": "Python 3",
   "language": "python",
   "name": "python3"
  },
  "language_info": {
   "codemirror_mode": {
    "name": "ipython",
    "version": 3
   },
   "file_extension": ".py",
   "mimetype": "text/x-python",
   "name": "python",
   "nbconvert_exporter": "python",
   "pygments_lexer": "ipython3",
   "version": "3.6.10"
  }
 },
 "nbformat": 4,
 "nbformat_minor": 4
}
